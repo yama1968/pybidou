{
 "metadata": {
  "name": "",
  "signature": "sha256:b8a84a2adbf53ae6400f95d59aaa4d84d09852036ecd89f7184960da57fcda2f"
 },
 "nbformat": 3,
 "nbformat_minor": 0,
 "worksheets": [
  {
   "cells": [
    {
     "cell_type": "code",
     "collapsed": false,
     "input": [
      "import random as rd\n",
      "n = 100000\n",
      "D = 2**20\n",
      "a0 = [str(rd.randint(0,1000)) for i in range(n)]\n",
      "w0 = [rd.random() for i in range(D)]\n",
      "def sumwa0(w, a):\n",
      "    r = 0\n",
      "    for i in a:\n",
      "        r += w[hash(i)%D]\n",
      "    return r\n",
      "def sumwa1(w, a):\n",
      "    r = 0\n",
      "    for i in range(len(a)):\n",
      "        r += w[hash(a[i])%D]\n",
      "    return r\n",
      "print (sumwa0(w0,a0))\n",
      "%timeit sumwa0(w0, a0)\n",
      "print (sumwa1(w0,a0))\n",
      "%timeit sumwa1(w0, a0)\n",
      "\n",
      "from numba import jit\n",
      "s0 = jit(sumwa0)\n",
      "s1 = jit(sumwa1)\n",
      "print (s0(w0,a0))\n",
      "%timeit s0(w0,a0)\n",
      "print (s1(w0,a0))\n",
      "%timeit s1(w0,a0)\n"
     ],
     "language": "python",
     "metadata": {},
     "outputs": [
      {
       "output_type": "stream",
       "stream": "stdout",
       "text": [
        "50178.88662144577\n",
        "10 loops, best of 3: 22.5 ms per loop"
       ]
      },
      {
       "output_type": "stream",
       "stream": "stdout",
       "text": [
        "\n",
        "50178.88662144577\n",
        "10 loops, best of 3: 24.8 ms per loop"
       ]
      },
      {
       "output_type": "stream",
       "stream": "stdout",
       "text": [
        "\n",
        "50178.88662144577"
       ]
      },
      {
       "output_type": "stream",
       "stream": "stdout",
       "text": [
        "\n",
        "10 loops, best of 3: 69 ms per loop"
       ]
      },
      {
       "output_type": "stream",
       "stream": "stdout",
       "text": [
        "\n",
        "50178.88662144577"
       ]
      },
      {
       "output_type": "stream",
       "stream": "stdout",
       "text": [
        "\n",
        "10 loops, best of 3: 75.1 ms per loop"
       ]
      },
      {
       "output_type": "stream",
       "stream": "stdout",
       "text": [
        "\n"
       ]
      },
      {
       "output_type": "stream",
       "stream": "stderr",
       "text": [
        "/home/yannick/bin/anaconda3/lib/python3.4/site-packages/numba/tests/__init__.py:393: UserWarning: Failed to enable faulthandler due to:\n",
        "IOStream has no fileno.\n",
        "  warnings.warn(msg.format(err=e))\n"
       ]
      }
     ],
     "prompt_number": 1
    },
    {
     "cell_type": "code",
     "collapsed": false,
     "input": [
      "import numpy as np\n",
      "\n",
      "a = [str(i) for i in np.random.randint(1000, size = n)]\n",
      "npa = np.array(a)\n",
      "print (a[10])\n",
      "w = np.random.random(size = D)\n",
      "print (w[10])"
     ],
     "language": "python",
     "metadata": {},
     "outputs": [
      {
       "output_type": "stream",
       "stream": "stdout",
       "text": [
        "211\n",
        "0.976935631953\n"
       ]
      }
     ],
     "prompt_number": 2
    },
    {
     "cell_type": "code",
     "collapsed": false,
     "input": [
      "\n",
      "def sumwa(w, a):\n",
      "    r = 0\n",
      "    for i in a:\n",
      "        r += w[hash(i)%D]\n",
      "    return r\n",
      "print (sumwa(w,a))\n",
      "%timeit sumwa(w, a)\n",
      "%timeit sumwa(w0, a)\n",
      "\n",
      "%timeit sumwa(w, npa)"
     ],
     "language": "python",
     "metadata": {},
     "outputs": [
      {
       "output_type": "stream",
       "stream": "stdout",
       "text": [
        "50008.0384584\n",
        "10 loops, best of 3: 28 ms per loop"
       ]
      },
      {
       "output_type": "stream",
       "stream": "stdout",
       "text": [
        "\n",
        "10 loops, best of 3: 21.6 ms per loop"
       ]
      },
      {
       "output_type": "stream",
       "stream": "stdout",
       "text": [
        "\n",
        "10 loops, best of 3: 71 ms per loop"
       ]
      },
      {
       "output_type": "stream",
       "stream": "stdout",
       "text": [
        "\n"
       ]
      }
     ],
     "prompt_number": 5
    },
    {
     "cell_type": "code",
     "collapsed": false,
     "input": [
      "def sumwa2(w,a):\n",
      "    h = (np.vectorize(hash))(a) % D\n",
      "    r = w[h].sum()\n",
      "    return r\n",
      "print (sumwa2(w,a))\n",
      "%timeit sumwa2(w, a)\n",
      "print (sumwa2(w,npa))\n",
      "%timeit sumwa2(w, npa)\n",
      "\n",
      "from numba import jit\n",
      "s2 = jit(sumwa2)\n",
      "print (s2(w,a))\n",
      "%timeit s2(w,a)\n",
      "%timeit s2(w,npa)\n",
      "%timeit s2(w,npa)"
     ],
     "language": "python",
     "metadata": {},
     "outputs": [
      {
       "output_type": "stream",
       "stream": "stdout",
       "text": [
        "50008.0384584\n",
        "100 loops, best of 3: 19 ms per loop"
       ]
      },
      {
       "output_type": "stream",
       "stream": "stdout",
       "text": [
        "\n",
        "50008.0384584\n",
        "10 loops, best of 3: 23.4 ms per loop"
       ]
      },
      {
       "output_type": "stream",
       "stream": "stdout",
       "text": [
        "\n",
        "50008.0384584"
       ]
      },
      {
       "output_type": "stream",
       "stream": "stdout",
       "text": [
        "\n",
        "100 loops, best of 3: 19 ms per loop"
       ]
      },
      {
       "output_type": "stream",
       "stream": "stdout",
       "text": [
        "\n",
        "10 loops, best of 3: 23.2 ms per loop"
       ]
      },
      {
       "output_type": "stream",
       "stream": "stdout",
       "text": [
        "\n",
        "10 loops, best of 3: 23.2 ms per loop"
       ]
      },
      {
       "output_type": "stream",
       "stream": "stdout",
       "text": [
        "\n"
       ]
      }
     ],
     "prompt_number": 7
    },
    {
     "cell_type": "code",
     "collapsed": false,
     "input": [],
     "language": "python",
     "metadata": {},
     "outputs": [],
     "prompt_number": 4
    }
   ],
   "metadata": {}
  }
 ]
}