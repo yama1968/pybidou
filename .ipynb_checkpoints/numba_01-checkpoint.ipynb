{
 "metadata": {
  "name": "",
  "signature": "sha256:ef09df67bfa820110e40739aaa81affc87e04d5770c6a805eee5b8b10109cef2"
 },
 "nbformat": 3,
 "nbformat_minor": 0,
 "worksheets": [
  {
   "cells": [
    {
     "cell_type": "code",
     "collapsed": false,
     "input": [
      "from numpy import arange\n",
      "\n",
      "# Without numba\n",
      "\n",
      "def sum2d(arr):\n",
      "    M, N = arr.shape\n",
      "    result = 0.0\n",
      "    for i in range(M):\n",
      "        for j in range(N):\n",
      "            result += arr[i,j]\n",
      "    return result\n",
      "\n",
      "a = arange(1000000).reshape(1000,1000)\n",
      "%timeit _ = sum2d(a)"
     ],
     "language": "python",
     "metadata": {},
     "outputs": [
      {
       "output_type": "stream",
       "stream": "stdout",
       "text": [
        "1 loops, best of 3: 494 ms per loop\n"
       ]
      }
     ],
     "prompt_number": 29
    },
    {
     "cell_type": "code",
     "collapsed": false,
     "input": [
      "from numba import jit\n",
      "from numpy import arange\n",
      "\n",
      "# jit decorator tells Numba to compile this function.\n",
      "# The argument types will be inferred by Numba when function is called.\n",
      "@jit\n",
      "def sum2d(arr):\n",
      "    M, N = arr.shape\n",
      "    result = 0.0\n",
      "    for i in range(M):\n",
      "        for j in range(N):\n",
      "            result += arr[i,j]\n",
      "    return result\n",
      "\n",
      "a = arange(1000000).reshape(1000,1000)\n",
      "%timeit _ = sum2d(a)\n",
      "%timeit _ = sum2d(a)"
     ],
     "language": "python",
     "metadata": {},
     "outputs": [
      {
       "output_type": "stream",
       "stream": "stdout",
       "text": [
        "1 loops, best of 3: 2.31 ms per loop\n",
        "100 loops, best of 3: 2.31 ms per loop"
       ]
      },
      {
       "output_type": "stream",
       "stream": "stdout",
       "text": [
        "\n"
       ]
      }
     ],
     "prompt_number": 30
    },
    {
     "cell_type": "code",
     "collapsed": false,
     "input": [
      "def fib(n):\n",
      "    return 1 if n <= 2 else fib(n-1)+fib(n-2)\n",
      "c=30\n",
      "print(fib(c))\n",
      "%timeit fib(c)"
     ],
     "language": "python",
     "metadata": {},
     "outputs": [
      {
       "output_type": "stream",
       "stream": "stdout",
       "text": [
        "832040\n",
        "1 loops, best of 3: 420 ms per loop"
       ]
      },
      {
       "output_type": "stream",
       "stream": "stdout",
       "text": [
        "\n"
       ]
      }
     ],
     "prompt_number": 31
    },
    {
     "cell_type": "code",
     "collapsed": false,
     "input": [
      "from numba import jit\n",
      "@jit\n",
      "def fib(n):\n",
      "    return 1 if n <= 2 else fib(n-1)+fib(n-2)\n",
      "c=30\n",
      "print(fib(c))\n",
      "%timeit fib(c)"
     ],
     "language": "python",
     "metadata": {},
     "outputs": [
      {
       "output_type": "stream",
       "stream": "stdout",
       "text": [
        "832040\n",
        "1 loops, best of 3: 1.18 s per loop"
       ]
      },
      {
       "output_type": "stream",
       "stream": "stdout",
       "text": [
        "\n"
       ]
      }
     ],
     "prompt_number": 32
    },
    {
     "cell_type": "code",
     "collapsed": false,
     "input": [
      "import numpy as np\n",
      "def fib(n):\n",
      "    a = np.ones(n+1, dtype=int)\n",
      "    for i in np.arange(3,n+1):\n",
      "        a[i] = a[i-1] + a[i-2]\n",
      "    return a[n]\n",
      "c=50\n",
      "print(fib(c))\n",
      "%timeit fib(c)"
     ],
     "language": "python",
     "metadata": {},
     "outputs": [
      {
       "output_type": "stream",
       "stream": "stdout",
       "text": [
        "12586269025\n",
        "10000 loops, best of 3: 90.4 \u00b5s per loop"
       ]
      },
      {
       "output_type": "stream",
       "stream": "stdout",
       "text": [
        "\n"
       ]
      }
     ],
     "prompt_number": 33
    },
    {
     "cell_type": "code",
     "collapsed": false,
     "input": [
      "import numpy as np\n",
      "from numba import jit\n",
      "@jit\n",
      "def fib(n):\n",
      "    a = np.ones(n+1, dtype=int)\n",
      "    for i in np.arange(3,n+1):\n",
      "        a[i] = a[i-1] + a[i-2]\n",
      "    return a[n]\n",
      "c=50\n",
      "print(fib(c))\n",
      "%timeit fib(c)"
     ],
     "language": "python",
     "metadata": {},
     "outputs": [
      {
       "output_type": "stream",
       "stream": "stdout",
       "text": [
        "12586269025\n",
        "10000 loops, best of 3: 95.8 \u00b5s per loop"
       ]
      },
      {
       "output_type": "stream",
       "stream": "stdout",
       "text": [
        "\n"
       ]
      }
     ],
     "prompt_number": 34
    },
    {
     "cell_type": "code",
     "collapsed": false,
     "input": [
      "import numpy\n",
      "\n",
      "def mandelbrot(width, height):\n",
      "    x_min, x_max = -2.0, 1.0\n",
      "    y_min, y_max = -1.0, 1.0\n",
      "    arr = numpy.zeros((height, width), dtype=int)\n",
      "    xs = numpy.linspace(x_min, x_max, num=width)\n",
      "    ys = numpy.linspace(y_min, y_max, num=height)\n",
      "\n",
      "    max_iters = 20\n",
      "    for idx_x, x in enumerate(xs):\n",
      "        for idx_y, y in enumerate(ys):\n",
      "            c = complex(x, y)\n",
      "            z = 0.0j\n",
      "            for i in range(max_iters):\n",
      "                z = z * z + c\n",
      "                if z.real * z.real + z.imag * z.imag >= 4:\n",
      "                    # Hors de l'ensemble\n",
      "                    break\n",
      "            else:\n",
      "                # Dans l'ensemble\n",
      "                arr[idx_y, idx_x] = 1\n",
      "\n",
      "    return arr\n",
      "%timeit print(mandelbrot(200, 200).sum())\n",
      "mandelbrot=jit(mandelbrot)\n",
      "%timeit print(mandelbrot(200,200).sum())"
     ],
     "language": "python",
     "metadata": {},
     "outputs": [
      {
       "output_type": "stream",
       "stream": "stdout",
       "text": [
        "11416\n",
        "11416"
       ]
      },
      {
       "output_type": "stream",
       "stream": "stdout",
       "text": [
        "\n",
        "11416"
       ]
      },
      {
       "output_type": "stream",
       "stream": "stdout",
       "text": [
        "\n",
        "11416"
       ]
      },
      {
       "output_type": "stream",
       "stream": "stdout",
       "text": [
        "\n",
        "1 loops, best of 3: 348 ms per loop\n",
        "11416"
       ]
      },
      {
       "output_type": "stream",
       "stream": "stdout",
       "text": [
        "\n",
        "11416\n",
        "11416\n",
        "11416\n",
        "1 loops, best of 3: 2.74 ms per loop\n"
       ]
      }
     ],
     "prompt_number": 35
    },
    {
     "cell_type": "code",
     "collapsed": false,
     "input": [
      "import numpy as np\n",
      "from numba import jit\n",
      "\n",
      "n = 1000\n",
      "a = np.random.randint(n*10, size = n)\n",
      "b = np.random.randint(n, size = n)\n",
      "t = [0]"
     ],
     "language": "python",
     "metadata": {},
     "outputs": [],
     "prompt_number": 36
    },
    {
     "cell_type": "code",
     "collapsed": false,
     "input": [
      "import numpy as np\n",
      "from numba import jit\n",
      "\n",
      "def code (a, b, t):\n",
      "    r = [i+a[j] for i,j in zip(a,b)]\n",
      "    t[0] = r[10]\n",
      "    return r\n",
      "print (\"%timeit (code(a,b,t)[10])\")\n",
      "%timeit (code(a,b,t))\n",
      "print (t)\n",
      "\n",
      "def malcode(a, b):\n",
      "    n = len(a)\n",
      "    r = [0] * n\n",
      "    for i in np.arange(n):\n",
      "        r[i] = a[i] + a[b[i]]\n",
      "    return r\n",
      "print(\"%timeit malcode(a,b)[10]\")\n",
      "%timeit malcode(a,b)[10]\n",
      "jmalcode = jit(malcode)\n",
      "print(\"%timeit jmalcode(a,b)[10]\")\n",
      "%timeit jmalcode(a,b)[10]\n",
      "\n",
      "def code2(a, b):\n",
      "    r = np.zeros(len(a))\n",
      "    for i in np.arange(len(a)):\n",
      "        r[i] = a[i] + a[b[i]]\n",
      "    return r\n",
      "\n",
      "@jit\n",
      "def jcode3(a, b):\n",
      "    r = np.zeros(len(a))\n",
      "    for i in np.arange(len(a)):\n",
      "        r[i] = a[i] + a[b[i]]\n",
      "    return r\n",
      "print(\"%timeit code2(a,b)[10]\")\n",
      "%timeit code2(a,b)[10]\n",
      "jcode2 = jit(code2)\n",
      "_ = jcode2(a,b)[10]\n",
      "print(\"%timeit jcode2(a,b)[10]\")\n",
      "%timeit jcode2(a,b)[10]\n",
      "_ = jcode3(a,b)[10]\n",
      "print(\"%timeit jcode3(a,b)[10]\")\n",
      "%timeit jcode3(a,b)[10]\n",
      "\n",
      "def code4(a,b):\n",
      "    r = a + a[b]\n",
      "    return r\n",
      "\n",
      "%timeit code4(a,b)[10]"
     ],
     "language": "python",
     "metadata": {},
     "outputs": [
      {
       "output_type": "stream",
       "stream": "stdout",
       "text": [
        "%timeit (code(a,b,t)[10])\n",
        "1000 loops, best of 3: 694 \u00b5s per loop"
       ]
      },
      {
       "output_type": "stream",
       "stream": "stdout",
       "text": [
        "\n",
        "[10325]\n",
        "%timeit malcode(a,b)[10]\n",
        "1000 loops, best of 3: 1.12 ms per loop"
       ]
      },
      {
       "output_type": "stream",
       "stream": "stdout",
       "text": [
        "\n",
        "%timeit jmalcode(a,b)[10]\n",
        "1 loops, best of 3: 1.15 ms per loop"
       ]
      },
      {
       "output_type": "stream",
       "stream": "stdout",
       "text": [
        "\n",
        "%timeit code2(a,b)[10]\n",
        "1000 loops, best of 3: 1.27 ms per loop"
       ]
      },
      {
       "output_type": "stream",
       "stream": "stdout",
       "text": [
        "\n",
        "%timeit jcode2(a,b)[10]"
       ]
      },
      {
       "output_type": "stream",
       "stream": "stdout",
       "text": [
        "\n",
        "1000 loops, best of 3: 1.26 ms per loop"
       ]
      },
      {
       "output_type": "stream",
       "stream": "stdout",
       "text": [
        "\n",
        "%timeit jcode3(a,b)[10]"
       ]
      },
      {
       "output_type": "stream",
       "stream": "stdout",
       "text": [
        "\n",
        "1000 loops, best of 3: 1.29 ms per loop"
       ]
      },
      {
       "output_type": "stream",
       "stream": "stdout",
       "text": [
        "\n",
        "100000 loops, best of 3: 6.96 \u00b5s per loop"
       ]
      },
      {
       "output_type": "stream",
       "stream": "stdout",
       "text": [
        "\n"
       ]
      }
     ],
     "prompt_number": 37
    },
    {
     "cell_type": "code",
     "collapsed": false,
     "input": [
      "u = np.random.randint(10, size = 10)\n",
      "print (u)\n",
      "r1 = u + u[u]\n",
      "r2 = [ u[i] + u[u[i]] for i in np.arange(10)] \n",
      "print (r1)\n",
      "print (r2)"
     ],
     "language": "python",
     "metadata": {},
     "outputs": [
      {
       "output_type": "stream",
       "stream": "stdout",
       "text": [
        "[8 3 4 0 9 7 3 4 3 2]\n",
        "[11  3 13  8 11 11  3 13  3  6]\n",
        "[11, 3, 13, 8, 11, 11, 3, 13, 3, 6]\n"
       ]
      }
     ],
     "prompt_number": 38
    },
    {
     "cell_type": "code",
     "collapsed": false,
     "input": [
      "t = [0]\n",
      "def code4(a,b, t):\n",
      "    r = a + a[b]\n",
      "    t[0] = r[10]\n",
      "    return r\n",
      "%timeit code4(a,b, t)[10]\n",
      "print (t)\n",
      "@jit\n",
      "def jcode4(a,b, t):\n",
      "    r = a + a[b]\n",
      "    t[0] = r[10]\n",
      "    return r\n",
      "%timeit jcode4(a,b, t)[10]\n",
      "print (t)"
     ],
     "language": "python",
     "metadata": {},
     "outputs": [
      {
       "output_type": "stream",
       "stream": "stdout",
       "text": [
        "100000 loops, best of 3: 7.38 \u00b5s per loop\n",
        "[10325]\n",
        "10000 loops, best of 3: 36 \u00b5s per loop"
       ]
      },
      {
       "output_type": "stream",
       "stream": "stdout",
       "text": [
        "\n",
        "[10325]\n"
       ]
      }
     ],
     "prompt_number": 40
    }
   ],
   "metadata": {}
  }
 ]
}