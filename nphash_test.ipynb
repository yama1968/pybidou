{
 "metadata": {
  "name": "",
  "signature": "sha256:36ab48de0d91fecca2d37cc7b4fc6d7c2fb2a3f2752d687faecaf07461c33d7e"
 },
 "nbformat": 3,
 "nbformat_minor": 0,
 "worksheets": [
  {
   "cells": [
    {
     "cell_type": "code",
     "collapsed": false,
     "input": [
      "import random as rd\n",
      "n = 1000\n",
      "D = 2**20\n",
      "a0 = [str(rd.randint(0,1000)) for i in range(n)]\n",
      "w0 = [rd.random() for i in range(D)]\n",
      "def sumwa0(w, a):\n",
      "    r = 0\n",
      "    for i in a:\n",
      "        r += w[hash(i)%D]\n",
      "    return r\n",
      "def sumwa1(w, a):\n",
      "    r = 0\n",
      "    for i in range(len(a)):\n",
      "        r += w[hash(a[i])%D]\n",
      "    return r\n",
      "print (sumwa0(w0,a0))\n",
      "%timeit sumwa0(w0, a0)\n",
      "print (sumwa1(w0,a0))\n",
      "%timeit sumwa1(w0, a0)"
     ],
     "language": "python",
     "metadata": {},
     "outputs": [
      {
       "output_type": "stream",
       "stream": "stdout",
       "text": [
        "488.8659037695414\n",
        "1000 loops, best of 3: 352 \u00b5s per loop"
       ]
      },
      {
       "output_type": "stream",
       "stream": "stdout",
       "text": [
        "\n",
        "488.8659037695414\n",
        "1000 loops, best of 3: 397 \u00b5s per loop"
       ]
      },
      {
       "output_type": "stream",
       "stream": "stdout",
       "text": [
        "\n"
       ]
      }
     ],
     "prompt_number": 12
    },
    {
     "cell_type": "code",
     "collapsed": false,
     "input": [
      "import numpy as np\n",
      "n = 1000\n",
      "D = 2**20\n",
      "a = [str(i) for i in np.random.randint(1000, size = n)]\n",
      "npa = np.array(a)\n",
      "print (a[10])\n",
      "w = np.random.random(size = D)\n",
      "print (w[10])"
     ],
     "language": "python",
     "metadata": {},
     "outputs": [
      {
       "output_type": "stream",
       "stream": "stdout",
       "text": [
        "246\n",
        "0.447030397474\n"
       ]
      }
     ],
     "prompt_number": 13
    },
    {
     "cell_type": "code",
     "collapsed": false,
     "input": [
      "\n",
      "def sumwa(w, a):\n",
      "    r = 0\n",
      "    for i in a:\n",
      "        r += w[hash(i)%D]\n",
      "    return r\n",
      "print (sumwa(w,a))\n",
      "%timeit sumwa(w, a)\n",
      "%timeit sumwa(w, npa)"
     ],
     "language": "python",
     "metadata": {},
     "outputs": [
      {
       "output_type": "stream",
       "stream": "stdout",
       "text": [
        "484.967751493\n",
        "1000 loops, best of 3: 566 \u00b5s per loop"
       ]
      },
      {
       "output_type": "stream",
       "stream": "stdout",
       "text": [
        "\n",
        "1000 loops, best of 3: 1.27 ms per loop"
       ]
      },
      {
       "output_type": "stream",
       "stream": "stdout",
       "text": [
        "\n"
       ]
      }
     ],
     "prompt_number": 14
    },
    {
     "cell_type": "code",
     "collapsed": false,
     "input": [
      "def sumwa2(w,a):\n",
      "    h = (np.vectorize(hash))(a) % D\n",
      "    r = w[h].sum()\n",
      "    return r\n",
      "print (sumwa2(w,a))\n",
      "%timeit sumwa2(w, a)\n",
      "%timeit sumwa2(w, npa)"
     ],
     "language": "python",
     "metadata": {},
     "outputs": [
      {
       "output_type": "stream",
       "stream": "stdout",
       "text": [
        "484.967751493\n",
        "1000 loops, best of 3: 335 \u00b5s per loop"
       ]
      },
      {
       "output_type": "stream",
       "stream": "stdout",
       "text": [
        "\n",
        "1000 loops, best of 3: 376 \u00b5s per loop"
       ]
      },
      {
       "output_type": "stream",
       "stream": "stdout",
       "text": [
        "\n"
       ]
      }
     ],
     "prompt_number": 15
    }
   ],
   "metadata": {}
  }
 ]
}