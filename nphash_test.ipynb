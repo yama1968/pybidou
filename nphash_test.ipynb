{
 "metadata": {
  "name": "",
  "signature": "sha256:9c50476c2e2cb5674e4ef7df16a840e3c50801d1cb183a994cce57c0f6236cad"
 },
 "nbformat": 3,
 "nbformat_minor": 0,
 "worksheets": [
  {
   "cells": [
    {
     "cell_type": "code",
     "collapsed": false,
     "input": [
      "import random as rd\n",
      "n = 1000\n",
      "D = 2**20\n",
      "a0 = [str(rd.randint(0,1000)) for i in range(n)]\n",
      "w0 = [rd.random() for i in range(D)]\n",
      "def sumwa0(w, a):\n",
      "    r = 0\n",
      "    for i in a:\n",
      "        r += w[hash(i)%D]\n",
      "    return r\n",
      "def sumwa1(w, a):\n",
      "    r = 0\n",
      "    for i in range(len(a)):\n",
      "        r += w[hash(a[i])%D]\n",
      "    return r\n",
      "print (sumwa0(w0,a0))\n",
      "%timeit sumwa0(w0, a0)\n",
      "print (sumwa1(w0,a0))\n",
      "%timeit sumwa1(w0, a0)\n",
      "\n",
      "from numba import jit\n",
      "s0 = jit(sumwa0)\n",
      "s1 = jit(sumwa1)\n",
      "print (s0(w0,a0))\n",
      "%timeit s0(w0,a0)\n",
      "print (s1(w0,a0))\n",
      "%timeit s1(w0,a0)\n"
     ],
     "language": "python",
     "metadata": {},
     "outputs": [
      {
       "output_type": "stream",
       "stream": "stdout",
       "text": [
        "495.580807044138\n",
        "1000 loops, best of 3: 362 \u00b5s per loop"
       ]
      },
      {
       "output_type": "stream",
       "stream": "stdout",
       "text": [
        "\n",
        "495.580807044138\n",
        "1000 loops, best of 3: 398 \u00b5s per loop"
       ]
      },
      {
       "output_type": "stream",
       "stream": "stdout",
       "text": [
        "\n",
        "495.580807044138"
       ]
      },
      {
       "output_type": "stream",
       "stream": "stdout",
       "text": [
        "\n",
        "1000 loops, best of 3: 1.01 ms per loop"
       ]
      },
      {
       "output_type": "stream",
       "stream": "stdout",
       "text": [
        "\n",
        "495.580807044138"
       ]
      },
      {
       "output_type": "stream",
       "stream": "stdout",
       "text": [
        "\n",
        "1000 loops, best of 3: 1.11 ms per loop"
       ]
      },
      {
       "output_type": "stream",
       "stream": "stdout",
       "text": [
        "\n"
       ]
      }
     ],
     "prompt_number": 6
    },
    {
     "cell_type": "code",
     "collapsed": false,
     "input": [
      "import numpy as np\n",
      "n = 1000\n",
      "D = 2**20\n",
      "a = [str(i) for i in np.random.randint(1000, size = n)]\n",
      "npa = np.array(a)\n",
      "print (a[10])\n",
      "w = np.random.random(size = D)\n",
      "print (w[10])"
     ],
     "language": "python",
     "metadata": {},
     "outputs": [
      {
       "output_type": "stream",
       "stream": "stdout",
       "text": [
        "471\n",
        "0.5441041058\n"
       ]
      }
     ],
     "prompt_number": 3
    },
    {
     "cell_type": "code",
     "collapsed": false,
     "input": [
      "\n",
      "def sumwa(w, a):\n",
      "    r = 0\n",
      "    for i in a:\n",
      "        r += w[hash(i)%D]\n",
      "    return r\n",
      "print (sumwa(w,a))\n",
      "%timeit sumwa(w, a)\n",
      "%timeit sumwa(w, npa)"
     ],
     "language": "python",
     "metadata": {},
     "outputs": [
      {
       "output_type": "stream",
       "stream": "stdout",
       "text": [
        "524.06148361\n",
        "1000 loops, best of 3: 555 \u00b5s per loop"
       ]
      },
      {
       "output_type": "stream",
       "stream": "stdout",
       "text": [
        "\n",
        "1000 loops, best of 3: 1.18 ms per loop"
       ]
      },
      {
       "output_type": "stream",
       "stream": "stdout",
       "text": [
        "\n"
       ]
      }
     ],
     "prompt_number": 4
    },
    {
     "cell_type": "code",
     "collapsed": false,
     "input": [
      "def sumwa2(w,a):\n",
      "    h = (np.vectorize(hash))(a) % D\n",
      "    r = w[h].sum()\n",
      "    return r\n",
      "print (sumwa2(w,a))\n",
      "%timeit sumwa2(w, a)\n",
      "%timeit sumwa2(w, npa)\n",
      "\n",
      "from numba import jit\n",
      "s2 = jit(sumwa2)\n",
      "print (s2(w,a))\n",
      "%timeit s2(w,a)\n",
      "%timeit s2(w,npa)"
     ],
     "language": "python",
     "metadata": {},
     "outputs": [
      {
       "output_type": "stream",
       "stream": "stdout",
       "text": [
        "524.06148361\n",
        "1000 loops, best of 3: 328 \u00b5s per loop"
       ]
      },
      {
       "output_type": "stream",
       "stream": "stdout",
       "text": [
        "\n",
        "1000 loops, best of 3: 371 \u00b5s per loop"
       ]
      },
      {
       "output_type": "stream",
       "stream": "stdout",
       "text": [
        "\n",
        "524.06148361"
       ]
      },
      {
       "output_type": "stream",
       "stream": "stdout",
       "text": [
        "\n",
        "1000 loops, best of 3: 357 \u00b5s per loop"
       ]
      },
      {
       "output_type": "stream",
       "stream": "stdout",
       "text": [
        "\n",
        "1000 loops, best of 3: 467 \u00b5s per loop"
       ]
      },
      {
       "output_type": "stream",
       "stream": "stdout",
       "text": [
        "\n"
       ]
      },
      {
       "output_type": "stream",
       "stream": "stderr",
       "text": [
        "/home/cc/bin/anaconda3/lib/python3.4/site-packages/numba/tests/__init__.py:393: UserWarning: Failed to enable faulthandler due to:\n",
        "IOStream has no fileno.\n",
        "  warnings.warn(msg.format(err=e))\n"
       ]
      }
     ],
     "prompt_number": 5
    }
   ],
   "metadata": {}
  }
 ]
}