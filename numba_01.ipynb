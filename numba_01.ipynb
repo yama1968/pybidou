{
 "metadata": {
  "name": "",
  "signature": "sha256:bba1795326a39fcbd9de91942984719d73509570921f3981131a639669208959"
 },
 "nbformat": 3,
 "nbformat_minor": 0,
 "worksheets": [
  {
   "cells": [
    {
     "cell_type": "code",
     "collapsed": false,
     "input": [
      "from numpy import arange\n",
      "\n",
      "# Without numba\n",
      "\n",
      "def sum2d(arr):\n",
      "    M, N = arr.shape\n",
      "    result = 0.0\n",
      "    for i in range(M):\n",
      "        for j in range(N):\n",
      "            result += arr[i,j]\n",
      "    return result\n",
      "\n",
      "a = arange(1000000).reshape(1000,1000)\n",
      "%timeit _ = sum2d(a)"
     ],
     "language": "python",
     "metadata": {},
     "outputs": [
      {
       "output_type": "stream",
       "stream": "stdout",
       "text": [
        "1 loops, best of 3: 284 ms per loop\n"
       ]
      }
     ],
     "prompt_number": 1
    },
    {
     "cell_type": "code",
     "collapsed": false,
     "input": [
      "from numba import jit\n",
      "from numpy import arange\n",
      "\n",
      "# jit decorator tells Numba to compile this function.\n",
      "# The argument types will be inferred by Numba when function is called.\n",
      "@jit\n",
      "def sum2d(arr):\n",
      "    M, N = arr.shape\n",
      "    result = 0.0\n",
      "    for i in range(M):\n",
      "        for j in range(N):\n",
      "            result += arr[i,j]\n",
      "    return result\n",
      "\n",
      "a = arange(1000000).reshape(1000,1000)\n",
      "%timeit _ = sum2d(a)\n",
      "%timeit _ = sum2d(a)"
     ],
     "language": "python",
     "metadata": {},
     "outputs": [
      {
       "output_type": "stream",
       "stream": "stdout",
       "text": [
        "1000 loops, best of 3: 1.06 ms per loop\n",
        "1000 loops, best of 3: 1.06 ms per loop"
       ]
      },
      {
       "output_type": "stream",
       "stream": "stdout",
       "text": [
        "\n"
       ]
      },
      {
       "output_type": "stream",
       "stream": "stderr",
       "text": [
        "/home/yannick/bin/anaconda3/lib/python3.4/site-packages/numba/tests/__init__.py:393: UserWarning: Failed to enable faulthandler due to:\n",
        "IOStream has no fileno.\n",
        "  warnings.warn(msg.format(err=e))\n"
       ]
      }
     ],
     "prompt_number": 2
    },
    {
     "cell_type": "code",
     "collapsed": false,
     "input": [
      "def fib(n):\n",
      "    return 1 if n <= 2 else fib(n-1)+fib(n-2)\n",
      "c=30\n",
      "print(fib(c))\n",
      "%timeit fib(c)"
     ],
     "language": "python",
     "metadata": {},
     "outputs": [
      {
       "output_type": "stream",
       "stream": "stdout",
       "text": [
        "832040\n",
        "10 loops, best of 3: 194 ms per loop"
       ]
      },
      {
       "output_type": "stream",
       "stream": "stdout",
       "text": [
        "\n"
       ]
      }
     ],
     "prompt_number": 3
    },
    {
     "cell_type": "code",
     "collapsed": false,
     "input": [
      "from numba import jit\n",
      "@jit\n",
      "def fib(n):\n",
      "    return 1 if n <= 2 else fib(n-1)+fib(n-2)\n",
      "c=30\n",
      "print(fib(c))\n",
      "%timeit fib(c)"
     ],
     "language": "python",
     "metadata": {},
     "outputs": [
      {
       "output_type": "stream",
       "stream": "stdout",
       "text": [
        "832040\n",
        "1 loops, best of 3: 531 ms per loop"
       ]
      },
      {
       "output_type": "stream",
       "stream": "stdout",
       "text": [
        "\n"
       ]
      }
     ],
     "prompt_number": 4
    },
    {
     "cell_type": "code",
     "collapsed": false,
     "input": [
      "import numpy as np\n",
      "def fib(n):\n",
      "    a = np.ones(n+1, dtype=int)\n",
      "    for i in np.arange(3,n+1):\n",
      "        a[i] = a[i-1] + a[i-2]\n",
      "    return a[n]\n",
      "c=50\n",
      "print(fib(c))\n",
      "%timeit fib(c)"
     ],
     "language": "python",
     "metadata": {},
     "outputs": [
      {
       "output_type": "stream",
       "stream": "stdout",
       "text": [
        "12586269025\n",
        "10000 loops, best of 3: 41.4 \u00b5s per loop"
       ]
      },
      {
       "output_type": "stream",
       "stream": "stdout",
       "text": [
        "\n"
       ]
      }
     ],
     "prompt_number": 5
    },
    {
     "cell_type": "code",
     "collapsed": false,
     "input": [
      "import numpy as np\n",
      "from numba import jit\n",
      "@jit\n",
      "def fib(n):\n",
      "    a = np.ones(n+1, dtype=int)\n",
      "    for i in np.arange(3,n+1):\n",
      "        a[i] = a[i-1] + a[i-2]\n",
      "    return a[n]\n",
      "c=50\n",
      "print(fib(c))\n",
      "%timeit fib(c)"
     ],
     "language": "python",
     "metadata": {},
     "outputs": [
      {
       "output_type": "stream",
       "stream": "stdout",
       "text": [
        "12586269025\n",
        "10000 loops, best of 3: 43.9 \u00b5s per loop"
       ]
      },
      {
       "output_type": "stream",
       "stream": "stdout",
       "text": [
        "\n"
       ]
      }
     ],
     "prompt_number": 6
    },
    {
     "cell_type": "code",
     "collapsed": false,
     "input": [
      "import numpy\n",
      "\n",
      "def mandelbrot(width, height):\n",
      "    x_min, x_max = -2.0, 1.0\n",
      "    y_min, y_max = -1.0, 1.0\n",
      "    arr = numpy.zeros((height, width), dtype=int)\n",
      "    xs = numpy.linspace(x_min, x_max, num=width)\n",
      "    ys = numpy.linspace(y_min, y_max, num=height)\n",
      "\n",
      "    max_iters = 20\n",
      "    for idx_x, x in enumerate(xs):\n",
      "        for idx_y, y in enumerate(ys):\n",
      "            c = complex(x, y)\n",
      "            z = 0.0j\n",
      "            for i in range(max_iters):\n",
      "                z = z * z + c\n",
      "                if z.real * z.real + z.imag * z.imag >= 4:\n",
      "                    # Hors de l'ensemble\n",
      "                    break\n",
      "            else:\n",
      "                # Dans l'ensemble\n",
      "                arr[idx_y, idx_x] = 1\n",
      "\n",
      "    return arr\n",
      "\n",
      "print(mandelbrot(200, 200).sum())\n",
      "%timeit mandelbrot(200, 200).sum()\n",
      "\n",
      "mandelbrot=jit(mandelbrot)\n",
      "print(mandelbrot(200,200).sum())\n",
      "%timeit mandelbrot(200,200).sum()"
     ],
     "language": "python",
     "metadata": {},
     "outputs": [
      {
       "output_type": "stream",
       "stream": "stdout",
       "text": [
        "11416\n",
        "10 loops, best of 3: 167 ms per loop"
       ]
      },
      {
       "output_type": "stream",
       "stream": "stdout",
       "text": [
        "\n",
        "11416"
       ]
      },
      {
       "output_type": "stream",
       "stream": "stdout",
       "text": [
        "\n",
        "1000 loops, best of 3: 1.24 ms per loop"
       ]
      },
      {
       "output_type": "stream",
       "stream": "stdout",
       "text": [
        "\n"
       ]
      }
     ],
     "prompt_number": 14
    },
    {
     "cell_type": "code",
     "collapsed": false,
     "input": [
      "import numpy as np\n",
      "from numba import jit\n",
      "\n",
      "n = 10000\n",
      "a = np.random.randint(n*10, size = n)\n",
      "b = np.random.randint(n, size = n)\n",
      "t = np.array([0])"
     ],
     "language": "python",
     "metadata": {},
     "outputs": [],
     "prompt_number": 22
    },
    {
     "cell_type": "code",
     "collapsed": false,
     "input": [
      "import numpy as np\n",
      "from numba import jit\n",
      "\n",
      "def code (a, b, t):\n",
      "    r = [i+a[j] for i,j in zip(a,b)]\n",
      "    t[0] = r[10]\n",
      "    return r\n",
      "print (\"%timeit (code(a,b,t)[10])\")\n",
      "%timeit (code(a,b,t))\n",
      "print (t)\n",
      "#jcode = jit(code)\n",
      "#print (jcode(a,b,t))\n",
      "#print (\"%timeit (jcode(a,b,t)[10])\")\n",
      "#%timeit (jcode(a,b,t))\n",
      "\n",
      "def malcode(a, b):\n",
      "    n = len(a)\n",
      "    r = [0] * n\n",
      "    for i in np.arange(n):\n",
      "        r[i] = a[i] + a[b[i]]\n",
      "    return r\n",
      "print(\"%timeit malcode(a,b)[10]\")\n",
      "print (malcode(a,b)[10])\n",
      "%timeit malcode(a,b)[10]\n",
      "jmalcode = jit(malcode)\n",
      "print(\"%timeit jmalcode(a,b)[10]\")\n",
      "print (jmalcode(a,b)[10])\n",
      "%timeit jmalcode(a,b)[10]\n",
      "\n",
      "def code2(a, b):\n",
      "    r = np.zeros(len(a))\n",
      "    for i in np.arange(len(a)):\n",
      "        r[i] = a[i] + a[b[i]]\n",
      "    return r\n",
      "\n",
      "@jit\n",
      "def jcode3(a, b):\n",
      "    r = np.zeros(len(a))\n",
      "    for i in np.arange(len(a)):\n",
      "        r[i] = a[i] + a[b[i]]\n",
      "    return r\n",
      "print(\"%timeit code2(a,b)[10]\")\n",
      "print (code2(a,b)[10])\n",
      "%timeit code2(a,b)[10]\n",
      "jcode2 = jit(code2)\n",
      "_ = jcode2(a,b)[10]\n",
      "print(\"%timeit jcode2(a,b)[10]\")\n",
      "%timeit jcode2(a,b)[10]\n",
      "_ = jcode3(a,b)[10]\n",
      "print(\"%timeit jcode3(a,b)[10]\")\n",
      "%timeit jcode3(a,b)[10]\n",
      "\n",
      "def code4(a,b):\n",
      "    r = a + a[b]\n",
      "    return r\n",
      "\n",
      "print(\"%timeit code4(a,b)[10]\")\n",
      "%timeit code4(a,b)[10]"
     ],
     "language": "python",
     "metadata": {},
     "outputs": [
      {
       "output_type": "stream",
       "stream": "stdout",
       "text": [
        "%timeit (code(a,b,t)[10])\n",
        "100 loops, best of 3: 2.86 ms per loop"
       ]
      },
      {
       "output_type": "stream",
       "stream": "stdout",
       "text": [
        "\n",
        "[123013]\n",
        "%timeit malcode(a,b)[10]\n",
        "123013\n",
        "100 loops, best of 3: 5.87 ms per loop"
       ]
      },
      {
       "output_type": "stream",
       "stream": "stdout",
       "text": [
        "\n",
        "%timeit jmalcode(a,b)[10]\n",
        "123013"
       ]
      },
      {
       "output_type": "stream",
       "stream": "stdout",
       "text": [
        "\n",
        "100 loops, best of 3: 5.48 ms per loop"
       ]
      },
      {
       "output_type": "stream",
       "stream": "stdout",
       "text": [
        "\n",
        "%timeit code2(a,b)[10]\n",
        "123013.0\n",
        "100 loops, best of 3: 6.37 ms per loop"
       ]
      },
      {
       "output_type": "stream",
       "stream": "stdout",
       "text": [
        "\n",
        "%timeit jcode2(a,b)[10]"
       ]
      },
      {
       "output_type": "stream",
       "stream": "stdout",
       "text": [
        "\n",
        "100 loops, best of 3: 6.64 ms per loop"
       ]
      },
      {
       "output_type": "stream",
       "stream": "stdout",
       "text": [
        "\n",
        "%timeit jcode3(a,b)[10]"
       ]
      },
      {
       "output_type": "stream",
       "stream": "stdout",
       "text": [
        "\n",
        "100 loops, best of 3: 6.88 ms per loop"
       ]
      },
      {
       "output_type": "stream",
       "stream": "stdout",
       "text": [
        "\n",
        "%timeit code4(a,b)[10]\n",
        "10000 loops, best of 3: 22.8 \u00b5s per loop"
       ]
      },
      {
       "output_type": "stream",
       "stream": "stdout",
       "text": [
        "\n"
       ]
      }
     ],
     "prompt_number": 23
    },
    {
     "cell_type": "code",
     "collapsed": false,
     "input": [
      "u = np.random.randint(10, size = 10)\n",
      "print (u)\n",
      "r1 = u + u[u]\n",
      "r2 = [ u[i] + u[u[i]] for i in np.arange(10)] \n",
      "print (r1)\n",
      "print (r2)"
     ],
     "language": "python",
     "metadata": {},
     "outputs": [
      {
       "output_type": "stream",
       "stream": "stdout",
       "text": [
        "[6 6 3 5 9 5 2 3 4 0]\n",
        "[ 8  8  8 10  9 10  5  8 13  6]\n",
        "[8, 8, 8, 10, 9, 10, 5, 8, 13, 6]\n"
       ]
      }
     ],
     "prompt_number": 24
    },
    {
     "cell_type": "code",
     "collapsed": false,
     "input": [
      "t = [0]\n",
      "def code4(a,b, t):\n",
      "    r = a + a[b]\n",
      "    t[0] = r[10]\n",
      "    return r\n",
      "%timeit code4(a,b, t)[10]\n",
      "print (t)\n",
      "@jit\n",
      "def jcode4(a,b, t):\n",
      "    r = a + a[b]\n",
      "    t[0] = r[10]\n",
      "    return r\n",
      "%timeit jcode4(a,b, t)[10]\n",
      "print (t)"
     ],
     "language": "python",
     "metadata": {},
     "outputs": [
      {
       "output_type": "stream",
       "stream": "stdout",
       "text": [
        "10000 loops, best of 3: 23.3 \u00b5s per loop\n",
        "[123013]\n",
        "10000 loops, best of 3: 39.6 \u00b5s per loop"
       ]
      },
      {
       "output_type": "stream",
       "stream": "stdout",
       "text": [
        "\n",
        "[123013]\n"
       ]
      }
     ],
     "prompt_number": 27
    },
    {
     "cell_type": "code",
     "collapsed": false,
     "input": [],
     "language": "python",
     "metadata": {},
     "outputs": []
    }
   ],
   "metadata": {}
  }
 ]
}