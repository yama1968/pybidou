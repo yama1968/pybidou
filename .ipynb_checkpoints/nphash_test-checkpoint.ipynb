{
 "metadata": {
  "name": "",
  "signature": "sha256:e0df3e2b885c5c49780113ee5a1761238c8aec157da97a13972ed98938003b29"
 },
 "nbformat": 3,
 "nbformat_minor": 0,
 "worksheets": [
  {
   "cells": [
    {
     "cell_type": "code",
     "collapsed": false,
     "input": [
      "import random as rd\n",
      "n = 100000\n",
      "D = 2**20\n",
      "a0 = [str(rd.randint(0,1000)) for i in range(n)]\n",
      "w0 = [rd.random() for i in range(D)]\n",
      "def sumwa0(w, a):\n",
      "    r = 0\n",
      "    for i in a:\n",
      "        r += w[hash(i)%D]\n",
      "    return r\n",
      "def sumwa1(w, a):\n",
      "    r = 0\n",
      "    for i in range(len(a)):\n",
      "        r += w[hash(a[i])%D]\n",
      "    return r\n",
      "print (sumwa0(w0,a0))\n",
      "%timeit sumwa0(w0, a0)\n",
      "print (sumwa1(w0,a0))\n",
      "%timeit sumwa1(w0, a0)\n",
      "\n",
      "from numba import jit\n",
      "s0 = jit(sumwa0)\n",
      "s1 = jit(sumwa1)\n",
      "print (s0(w0,a0))\n",
      "%timeit s0(w0,a0)\n",
      "print (s1(w0,a0))\n",
      "%timeit s1(w0,a0)\n"
     ],
     "language": "python",
     "metadata": {},
     "outputs": [
      {
       "output_type": "stream",
       "stream": "stdout",
       "text": [
        "50859.871282187916\n",
        "10 loops, best of 3: 21.7 ms per loop"
       ]
      },
      {
       "output_type": "stream",
       "stream": "stdout",
       "text": [
        "\n",
        "50859.871282187916\n",
        "10 loops, best of 3: 24.4 ms per loop"
       ]
      },
      {
       "output_type": "stream",
       "stream": "stdout",
       "text": [
        "\n",
        "50859.871282187916"
       ]
      },
      {
       "output_type": "stream",
       "stream": "stdout",
       "text": [
        "\n",
        "10 loops, best of 3: 59.2 ms per loop"
       ]
      },
      {
       "output_type": "stream",
       "stream": "stdout",
       "text": [
        "\n",
        "50859.871282187916"
       ]
      },
      {
       "output_type": "stream",
       "stream": "stdout",
       "text": [
        "\n",
        "10 loops, best of 3: 75.2 ms per loop"
       ]
      },
      {
       "output_type": "stream",
       "stream": "stdout",
       "text": [
        "\n"
       ]
      }
     ],
     "prompt_number": 13
    },
    {
     "cell_type": "code",
     "collapsed": false,
     "input": [
      "import numpy as np\n",
      "\n",
      "a = [str(i) for i in np.random.randint(1000, size = n)]\n",
      "npa = np.array(a)\n",
      "print (a[10])\n",
      "w = np.random.random(size = D)\n",
      "print (w[10])"
     ],
     "language": "python",
     "metadata": {},
     "outputs": [
      {
       "output_type": "stream",
       "stream": "stdout",
       "text": [
        "789\n",
        "0.203211699619\n"
       ]
      }
     ],
     "prompt_number": 14
    },
    {
     "cell_type": "code",
     "collapsed": false,
     "input": [
      "\n",
      "def sumwa(w, a):\n",
      "    r = 0\n",
      "    for i in a:\n",
      "        r += w[hash(i)%D]\n",
      "    return r\n",
      "print (sumwa(w,a))\n",
      "%timeit sumwa(w, a)\n",
      "%timeit sumwa(w, npa)"
     ],
     "language": "python",
     "metadata": {},
     "outputs": [
      {
       "output_type": "stream",
       "stream": "stdout",
       "text": [
        "52572.2323608\n",
        "10 loops, best of 3: 29 ms per loop"
       ]
      },
      {
       "output_type": "stream",
       "stream": "stdout",
       "text": [
        "\n",
        "10 loops, best of 3: 69.4 ms per loop"
       ]
      },
      {
       "output_type": "stream",
       "stream": "stdout",
       "text": [
        "\n"
       ]
      }
     ],
     "prompt_number": 15
    },
    {
     "cell_type": "code",
     "collapsed": false,
     "input": [
      "def sumwa2(w,a):\n",
      "    h = (np.vectorize(hash))(a) % D\n",
      "    r = w[h].sum()\n",
      "    return r\n",
      "print (sumwa2(w,a))\n",
      "%timeit sumwa2(w, a)\n",
      "print (sumwa2(w,npa))\n",
      "%timeit sumwa2(w, npa)\n",
      "\n",
      "from numba import jit\n",
      "s2 = jit(sumwa2)\n",
      "print (s2(w,a))\n",
      "%timeit s2(w,a)\n",
      "%timeit s2(w,npa)\n",
      "%timeit s2(w,npa)"
     ],
     "language": "python",
     "metadata": {},
     "outputs": [
      {
       "output_type": "stream",
       "stream": "stdout",
       "text": [
        "52572.2323608\n",
        "100 loops, best of 3: 18.6 ms per loop"
       ]
      },
      {
       "output_type": "stream",
       "stream": "stdout",
       "text": [
        "\n",
        "52572.2323608\n",
        "10 loops, best of 3: 22.4 ms per loop"
       ]
      },
      {
       "output_type": "stream",
       "stream": "stdout",
       "text": [
        "\n",
        "52572.2323608"
       ]
      }
     ]
    },
    {
     "cell_type": "code",
     "collapsed": false,
     "input": [],
     "language": "python",
     "metadata": {},
     "outputs": [],
     "prompt_number": 16
    }
   ],
   "metadata": {}
  }
 ]
}